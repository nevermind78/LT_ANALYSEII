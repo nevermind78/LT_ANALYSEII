{
 "cells": [
  {
   "cell_type": "markdown",
   "id": "d2f3db07",
   "metadata": {
    "slideshow": {
     "slide_type": "skip"
    }
   },
   "source": [
    "$\\newcommand{\\R}{\\mathbb{R}}$\n",
    "$\\newcommand{\\Rb}{\\overline{\\mathbb{R}}}$\n",
    "$\\newcommand{\\N}{\\mathbb{N}}$\n",
    "$\\newcommand{\\Z}{\\mathbb{Z}}$\n",
    "$\\newcommand{\\C}{\\mathbb{C}}$\n",
    "$\\newcommand{\\K}{\\mathbb{K}}$\n",
    "$\\newcommand{\\cD}{\\mathcal{D}}$\n",
    "$\\newcommand{\\eps}{\\varepsilon}$\n",
    "$\\newcommand{\\T}{\\theta}$\n",
    "$\\newcommand{\\ic}{\\operatorname{i}}$\n",
    "$\\newcommand{\\Lim}[1]{\\displaystyle{\\lim_{#1}} ~}$\n",
    "$\\newcommand{\\Somme}[2]{\\displaystyle{\\sum_{#1}^{#2}}}$\n",
    "$\\newcommand{\\Int}[2]{\\displaystyle{\\int_{#1}^{#2}}}$\n",
    "$\\newcommand{\\equi}[1]{\\underset{#1}{\\sim}}$\n",
    "$\\newcommand{\\B}{\\mathcal{B}}$\n",
    "$\\newcommand{\\M}{\\mathcal{M}}$\n",
    "$\\newcommand{\\Lc}{\\mathcal{L}}$\n",
    "$\\newcommand{\\la}{\\lambda}$\n",
    "$\\newcommand{\\Om}{\\Omega}$\n",
    "$\\newcommand{\\om}{\\omega}$\n",
    "$\\newcommand{\\Pc}{\\mathcal{P}}$\n",
    "$\\newcommand{\\Ac}{\\mathcal{A}}$\n",
    "$\\newcommand{\\Cc}{\\mathcal{C}}$\n",
    "$\\newcommand{\\Sc}{\\mathcal{S}}$\n",
    "$\\newcommand{\\Nc}{\\mathcal{N}}$\n",
    "$\\newcommand{\\Mat}{\\text{Mat}}$\n",
    "$\\newcommand{\\Produit}[2]{\\displaystyle{\\prod_{#1}^{#2}}}$\n",
    "$\\newcommand{\\ima}{\\text{Im}}$\n",
    "$\\newcommand{\\mI}{-\\infty}$\n",
    "$\\newcommand{\\pI}{+\\infty}$\n",
    "$\\newcommand{\\e}{\\mathrm{e}}$"
   ]
  },
  {
   "cell_type": "markdown",
   "id": "2bb6dd18",
   "metadata": {
    "slideshow": {
     "slide_type": "slide"
    }
   },
   "source": [
    "<center>\n",
    "<img src=\"logo.png\" width=150 height=150 />\n",
    "\n",
    "<h1> Développement limité &nbsp;&nbsp;&nbsp;&nbsp;&nbsp;&nbsp;1LT&nbsp;&nbsp;&nbsp;&nbsp;&nbsp;&nbsp; Abdallah Khemais </h1>\n",
    "</center>\n",
    "\n",
    "Dans toute cette partie, $f$ désigne une fonction définie sur $\\cD$ une partie de $\\R$ et à valeurs dans $\\R$.\n",
    "\n"
   ]
  },
  {
   "cell_type": "markdown",
   "id": "23f9f22e",
   "metadata": {
    "slideshow": {
     "slide_type": "subslide"
    }
   },
   "source": [
    "## Définition\n",
    "\n",
    "Si $f$ est définie au voisinage de $0$, on dit que $f$ **admet un développement limité (DL) d'ordre $n$ au voisinage de 0** s'il existe $(a_0,\\dots, a_n) \\in \\R^{n+1}$ tels que au voisinage de 0 : $$f(x)=\\Somme{k=0}{n} a_k x^k+ o(x^n)$$ \n",
    "\n",
    "Le polynôme $\\Somme{k=0}{n} a_k x^k$ s'appelle la **partie régulière** du DL et $o(x^n)$ s'appelle le **reste** du DL."
   ]
  },
  {
   "cell_type": "markdown",
   "id": "7d0cfbc8",
   "metadata": {
    "slideshow": {
     "slide_type": "subslide"
    }
   },
   "source": [
    "On peut aussi définir le développement limité au voisinage de n'importe quel $x_0 \\in \\R$ : "
   ]
  },
  {
   "cell_type": "markdown",
   "id": "926ec2eb",
   "metadata": {
    "slideshow": {
     "slide_type": "subslide"
    }
   },
   "source": [
    "## Définition \n",
    "Soit $x_0 \\in \\R$. Si $f$ est définie au voisinage de $x_0$, on dit que $f$ admet un développement limité d'ordre $n$ au voisinage de 0 s'il existe $(b_0,\\dots ,b_n) \\in \\R^{n+1}$ tels que au voisinage de 0 : $$f(x)=\\Somme{k=0}{n} b_k (x-x_0)^k +o \\left( (x-x_0)^n \\right)$$"
   ]
  },
  {
   "cell_type": "markdown",
   "id": "0a93791c",
   "metadata": {
    "slideshow": {
     "slide_type": "subslide"
    }
   },
   "source": [
    "## Propriétés\n",
    "Voici un théorème qui donne une condition suffisante pour l'existence d'un développement limité à l'ordre $n$ :\n",
    "### Théorème :\n",
    "Si $f$ est une fonction de classe $\\mathcal{C}^{n+1}$ sur un intervalle $I$ et si $x_0 \\in I$ alors $f$ admet un développement limité d'ordre $n$ au voisinage de $x_0$ : $$f(x)=\\sum_{k=0}^n \\dfrac{f^{(k)}(x_0)}{k!} (x-x_0)^k+o((x-x_0)^n)$$\n",
    "### Remarque \n",
    "On utilise le plus souvent ce théorème dans le cas particulier où $x_0=0$ ce qui donne : $$f(x)=\\Somme{k=0}{n} \\dfrac{f^{(k)}(0)}{k!} x^k +o(x^n)$$"
   ]
  },
  {
   "cell_type": "markdown",
   "id": "5ebe6d0b",
   "metadata": {
    "slideshow": {
     "slide_type": "subslide"
    }
   },
   "source": [
    "## Propriété\n",
    "Si $f$ possède un développement limité d'ordre $n$ au voisinage de $x_0$ : $f(x)=\\Somme{k=0}{n} a_k (x-x_0)^k+o((x-x_0)^n)$ alors $\\Lim{x\\to x_0} f(x)=a_0$\n",
    "\n",
    "--------------------\n",
    "\n",
    "On remarque donc que $f$ ne peut pas admettre de DL en $x_0$ si $f$ n'admet pas une limite finie en $x_0$."
   ]
  },
  {
   "cell_type": "markdown",
   "id": "b14b1465",
   "metadata": {
    "slideshow": {
     "slide_type": "subslide"
    }
   },
   "source": [
    "## Propriété\n",
    "Si $f$ possède un développement limité d'ordre $n$ au voisinage de $x_0$ : $f(x)=\\Somme{k=0}{n} a_k (x-x_0)^k+o((x-x_0)^n)$, alors au voisinage de $x_0$, $f$ est équivalente au premier terme non nul de son développement limité : c'est-à-dire que si $p$ est tel que pour tout $0 \\leqslant k \\leqslant p-1$ $a_k=0$ et $a_p \\neq 0$ alors on a au voisinage de $x_0$ : $$f(x) \\equi{x_0} a_p (x-x_0)^p$$"
   ]
  },
  {
   "cell_type": "markdown",
   "id": "5e2a46d9",
   "metadata": {
    "slideshow": {
     "slide_type": "subslide"
    }
   },
   "source": [
    "### Théorème \n",
    "Si $f$ admet un développement limité d'ordre $n$ au voisinage de $x_0$ alors ce développement limité est unique"
   ]
  },
  {
   "cell_type": "markdown",
   "id": "c0d0a1fb",
   "metadata": {
    "slideshow": {
     "slide_type": "slide"
    }
   },
   "source": [
    "# Développements limités des fonctions usuelles\n",
    "Voici maintenant les développements limités classiques à connaitre par coeur. Ce sont des développements limités au voisinage de $0$ et à l'ordre $n \\in \\N$ : "
   ]
  },
  {
   "cell_type": "markdown",
   "id": "439a1365",
   "metadata": {
    "slideshow": {
     "slide_type": "subslide"
    }
   },
   "source": [
    "### Théorème :\n",
    "$$\\begin{aligned} \n",
    "& e^x=1+x+\\dfrac{x^2}{2!}+\\dfrac{x^3}{3!}+\\dots +\\dfrac{x^n}{n!}+o(x^n)\n",
    "\\\\& \\dfrac{1}{1-x}=1+x+x^2+x^3+\\dots +x^n+o(x^n)\n",
    "\\\\& \\dfrac{1}{1+x}=1-x+x^2-x^3+\\dots +(-1)^n x^n +o(x^n)\n",
    "\\\\ &  (1+x)^a=1+ax+\\dfrac{a(a-1)}{2!}x^2+\\dots + \\dfrac{a(a-1)\\dots (a-n+1)}{n!} x^n +o(x^n)\n",
    "\\\\ & \\ln(1+x)=x-\\dfrac{x^2}{2}+\\dfrac{x^3}{3}+\\dots +\\dfrac{(-1)^{n-1} x^n}{n}+o(x^n)\n",
    "\\\\& \\ln(1-x)=-x-\\dfrac{x^2}{2}-\\dfrac{x^3}{3}-\\dots -\\dfrac{x^n}{n}+o(x^n)\n",
    "\\end{aligned} $$"
   ]
  },
  {
   "cell_type": "markdown",
   "id": "3ca7249e",
   "metadata": {
    "slideshow": {
     "slide_type": "subslide"
    }
   },
   "source": [
    "Pour obtenir un développement limité au voisinage d'un $x_0 \\neq 0$ il faudra le plus souvent effectuer le changement de variable $X=x-x_0$ qui permet de chercher un développement limité en $X$ au voisinage de $0$"
   ]
  },
  {
   "cell_type": "markdown",
   "id": "9d53ac69",
   "metadata": {
    "slideshow": {
     "slide_type": "slide"
    }
   },
   "source": [
    "## Opérations sur les DL\n",
    "\n",
    "### Somme et produit\n",
    "Soient $f, g : I \\to \\R$ admettant chacune un développement limité d'ordre $n$ au voisinage de 0 : $$f(x)=\\sum_{k=0}^n a_k x^k+o(x^n) \\text{ et } g(x)=\\sum_{k=0}^n b_k x^k+o(x^n)$$\n",
    "\n",
    "* Alors $f+g$ admet le développement limité d'ordre $n$ au voisinage de $0$ suivant : $$(f+g)(x)=\\sum_{k=0}^n (a_k+b_k) x^k+o(x^n)$$\n",
    "\n",
    "* Alors $fg$ admet un développement limité d'ordre $n$ au voisinage de 0 que l'on obtient en faisant le produit des polynômes $\\Somme{k=0}{n} a_k x^k$ et $\\Somme{k=0}{n} b_k x^k$ et en ne gardant que les termes de degré inférieur ou égal à $n$."
   ]
  },
  {
   "cell_type": "markdown",
   "id": "00570435",
   "metadata": {
    "slideshow": {
     "slide_type": "slide"
    }
   },
   "source": [
    "### Exemple\n",
    "Calculer le développement limité d'ordre 2 au voisinage de 0 de $\\dfrac{e^x}{1+x}$.\n",
    "\n",
    "<span class=\"fragment\">$$\\begin{aligned} \\dfrac{e^x}{1+x}\\,=e^x \\times \\dfrac{1}{1+x}&=\\left(1+x+\\dfrac{x^2}{2}+o(x^2)\\right)\\left(1-x+x^2+o(x^2)\\right)\\end{aligned} $$</span>\n",
    "<span class=\"fragment\">$$\\begin{aligned}\\quad \\quad \\quad \\quad&= 1-x+x^2+x-x^2+\\dfrac{x^2}{2}+o(x^2)\\end{aligned} $$</span>\n",
    "<span class=\"fragment\">$$\\begin{aligned}&= 1+\\dfrac{x^2}{2} + o(x^2) \\quad \\quad\\quad\\end{aligned} $$</span>"
   ]
  },
  {
   "cell_type": "markdown",
   "id": "ef4ffb8b",
   "metadata": {
    "slideshow": {
     "slide_type": "slide"
    }
   },
   "source": [
    "### Composition\n",
    "Soit $f : I \\to \\R$ une fonction admettant un développement limité d'ordre $n$ au voisinage de 0 et telle que $\\Lim{0} f=0$ : $$f(x)=\\underbrace{\\sum_{k=1}^n a_k x^k}_{P(x)} +o(x^n)$$\n",
    "\n",
    "Soit $g : J \\to \\R$ une fonction admettant un développement limité d'ordre $n$ au voisinage de 0 : $$g(x)=\\underbrace{\\sum_{k=0}^n a_k x^k}_{Q(x)} +o(x^n)$$\n",
    "\n",
    "On suppose de plus que $f(I) \\subset J$. Alors $g \\circ f$ admet un développement limité d'ordre $n$ que l'on obtient en effectuant $Q \\circ P$ et en ne gardant que les termes de degré inférieur ou égal à $n$."
   ]
  },
  {
   "cell_type": "markdown",
   "id": "c19bb576",
   "metadata": {
    "slideshow": {
     "slide_type": "slide"
    }
   },
   "source": [
    "### Exemple\n",
    "Déterminer le développement limité d'ordre 2 au voisinage de 0 de $e^{\\sqrt{x+1}}$.\n",
    "\n",
    "<span class=\"fragment\">$$\\begin{aligned} e^{\\sqrt{x+1}}&= e^{\\left(1+\\frac12 x-\\frac18 x^2+o(x^2)\\right)}\n",
    "\\\\ & = e \\times e^{\\frac12 x-\\frac18 x^2+o(x^2)} = e \\times e^X \\quad \\text{avec } X=\\dfrac{x}{2}-\\dfrac{x^2}{8}+o(x^2)\n",
    "\\end{aligned} $$</span>\n",
    "\n"
   ]
  },
  {
   "cell_type": "markdown",
   "id": "9b3acd81",
   "metadata": {
    "slideshow": {
     "slide_type": "subslide"
    }
   },
   "source": [
    "<span class=\"fragment\">Comme $\\Lim{x\\to 0} X=0$ on peut calculer le développement limité de $e^X$. On sait que au voisinage de $0$ :</span>\n",
    "<span class=\"fragment\">$$e^X=1+X+\\dfrac{X^2}{2}+o(X^2)$$</span>\n",
    "\n",
    "<span class=\"fragment\">Or : $$\\begin{aligned} X&=\\dfrac{x}{2}-\\dfrac{x^2}{8}+o(x^2)\n",
    "\\\\ X^2&= \\left(\\dfrac{x}{2}-\\dfrac{x^2}{8}+o(x^2) \\right) \\times \\left( \\dfrac{x}{2}-\\dfrac{x^2}{8}+o(x^2) \\right) = \\dfrac{x^2}{4}+o(x^2)\n",
    "\\\\ o(X^2)&=o(x^2)\n",
    "\\end{aligned} $$</span>"
   ]
  },
  {
   "cell_type": "markdown",
   "id": "43f4e3cb",
   "metadata": {
    "slideshow": {
     "slide_type": "subslide"
    }
   },
   "source": [
    "<span class=\"fragment\">Dans le développement du produit on oublie tous les terme en $x^a$ avec $a>2$.</span>\n",
    "\n",
    "<span class=\"fragment\">Par conséquent : </span>\n",
    "<span class=\"fragment\">$$\\begin{aligned} \n",
    "e^{\\sqrt{x+1}} & =e\\times \\left(1+\\left(\\dfrac12x-\\dfrac18 x^2 +o(x^2)\\right)+\\dfrac12\\left( \\dfrac14x^2+o(x^2) \\right)+o(x^2) \\right)\n",
    "\\\\ & = e\\left( 1+\\dfrac12x+o(x^2)\\right)\n",
    "\\\\ & = e+\\dfrac{e}{2}x+o(x^2) \\end{aligned} $$</span>"
   ]
  },
  {
   "cell_type": "markdown",
   "id": "b2ad96e9",
   "metadata": {
    "slideshow": {
     "slide_type": "slide"
    }
   },
   "source": [
    "### Quotient\n",
    "Lorsqu'on a un quotient il faut se servir de la composée avec le développement limité de $\\dfrac{1}{1+x}$.\n",
    "\n",
    "### Exemple\n",
    "\n",
    "Déterminer le développement limité d'ordre 3 au voisinage de 0 de $\\dfrac{1}{1+\\ln(1+x)}$."
   ]
  },
  {
   "cell_type": "markdown",
   "id": "265f1697",
   "metadata": {
    "slideshow": {
     "slide_type": "subslide"
    }
   },
   "source": [
    "<span class=\"fragment\">On sait que $\\ln(1+x)=x-\\dfrac{x^2}{2}+\\dfrac{x^3}{3}+o(x^3)$, donc : </span>\n",
    "<span class=\"fragment\">$$\\begin{aligned} \\dfrac{1}{1+\\ln(1+x)}&= \\dfrac{1}{1+x-x^2/2+x^3/3+o(x^3)}\n",
    "\\\\ & =\\dfrac{1}{1+X} \\quad \\text{avec } X=x-\\dfrac{x^2}{2}+\\dfrac{x^3}{3}+o(x^3)\n",
    "\\end{aligned} $$</span>\n",
    "<span class=\"fragment\">Comme $\\Lim{x \\to 0} X=0$ on peut utiliser le développement limité de $\\dfrac{1}{1+X}$. On sait que au voisinage de $0$ : \n",
    "$$\\dfrac{1}{1+X}=1-X+X^2-X^3+o(X^3)$$</span>"
   ]
  },
  {
   "cell_type": "markdown",
   "id": "71aac831",
   "metadata": {
    "slideshow": {
     "slide_type": "subslide"
    }
   },
   "source": [
    "Or :\n",
    "<span class=\"fragment\">$$\\begin{aligned}\n",
    "X& =x-\\dfrac{x^2}{2}+\\dfrac{x^3}{3}+o(x^3)\n",
    "\\\\X^2&=\\left(x-\\dfrac{x^2}{2}+\\dfrac{x^3}{3}+o(x^3) \\right) \\times \\left(x-\\dfrac{x^2}{2}+\\dfrac{x^3}{3}+o(x^3) \\right)=x^2-x^3+o(x^3)\n",
    "\\\\X^3&=\\left(x-\\dfrac{x^2}{2}+\\dfrac{x^3}{3}+o(x^3) \\right) \\times \\left(  x^2-x^3+o(x^3) \\right) = x^3+o(x^3)\n",
    "\\\\ o(X^3)&=o(x^3)\n",
    "\\end{aligned} $$</span>\n"
   ]
  },
  {
   "cell_type": "markdown",
   "id": "e1a91d36",
   "metadata": {
    "slideshow": {
     "slide_type": "subslide"
    }
   },
   "source": [
    "Par conséquent : \n",
    "<span class=\"fragment\">$$\\begin{aligned}\n",
    "\\dfrac{1}{1+\\ln(1+x)} &= 1-\\left(x-\\dfrac{x^2}{2}+\\dfrac{x^3}{3}+o(x^3) \\right) +\\left(x^2-x^3+o(x^3) \\right)-\\left( x^3+o(x^3) \\right) +o(x^3)\n",
    "\\\\&=1-x+\\dfrac32 x^2-\\dfrac73 x^3+o(x^3)\n",
    "\\\\&= 1-x+\\dfrac32 x^2 -\\dfrac73 x^3+o(x^3) \\end{aligned} $$</span>"
   ]
  },
  {
   "cell_type": "markdown",
   "id": "8a4026fb",
   "metadata": {
    "slideshow": {
     "slide_type": "slide"
    }
   },
   "source": [
    "### Exemples :\n",
    "\n",
    " Déterminer le développement limité d'ordre 3 au voisinage de 0 de $\\dfrac{1}{1+\\sqrt{1+x}}$.\n"
   ]
  },
  {
   "cell_type": "markdown",
   "id": "00f2923d",
   "metadata": {
    "slideshow": {
     "slide_type": "slide"
    }
   },
   "source": [
    "## Applications des DL\n",
    "\n",
    "### Position par rapport à une tangente\n",
    "\n",
    "#### Proposition\n",
    "<span class=\"fragment\"> \n",
    "Si $f$ admet un développement limité d'ordre 1 au voisinage de $x_0$, $f(x)=a+b(x-x_0)+o((x-x_0))$ alors $f$ est dérivable en $x_0$ et $a=f(x_0)$ et $b=f'(x_0)$.</span>"
   ]
  },
  {
   "cell_type": "markdown",
   "id": "5ea95429",
   "metadata": {
    "slideshow": {
     "slide_type": "subslide"
    }
   },
   "source": [
    "#### Remarque\n",
    "Dans ce cas, l'équation de la tangente à la courbe représentative de $f$ au point d'abscisse $x_0$ est donc $y=a+b(x-x_0)$ et pour connaitre la position de la courbe par rapport à la tangente il suffit de regarder le signe du terme suivant du développement limité.\n"
   ]
  },
  {
   "cell_type": "markdown",
   "id": "d58c91cb",
   "metadata": {
    "slideshow": {
     "slide_type": "subslide"
    }
   },
   "source": [
    "### Exemple\n",
    "Calculer le développement limité d'ordre 3 en 0 de la fonction $f$ définie sur $\\R$ par $f(x)=\\dfrac{1}{1+e^x}$.\n",
    "\n",
    "En déduire l'équation de la tangente en 0 ainsi que la position de la courbe par rapport à la tangente."
   ]
  },
  {
   "cell_type": "markdown",
   "id": "acaf2927",
   "metadata": {
    "slideshow": {
     "slide_type": "subslide"
    }
   },
   "source": [
    "Au voisinage de 0 on a :\n",
    "<span class=\"fragment\"> $$\\begin{aligned} \\dfrac{1}{1+e^x}&=\\dfrac{1}{1+1+x+x^2/2+x^3/6+o(x^3)}=\\dfrac{1}{2+x+x^2/2+x^3/6+o(x^3)}\n",
    "\\\\&= \\dfrac12 \\times \\dfrac{1}{1+x/2+x^2/4+x^3/12+o(x^3)}\n",
    "\\\\&= \\dfrac{1}{2} \\times \\dfrac{1}{1+X} \\quad \\text{ avec } X=\\dfrac{x}{2}+\\dfrac{x^2}{4}+\\dfrac{x^3}{12}+o(x^3)\n",
    "\\end{aligned} $$</span>\n",
    "\n",
    "<span class=\"fragment\"> Comme $\\Lim{x \\to 0} X=0$ on peut utiliser le développement limité de $\\dfrac{1}{1+X}$. On sait que au voisinage de $0$ : \n",
    "$$\\dfrac{1}{1+X}=1-X+X^2-X^3+o(X^3)$$</span>"
   ]
  },
  {
   "cell_type": "markdown",
   "id": "69cd12e5",
   "metadata": {
    "slideshow": {
     "slide_type": "subslide"
    }
   },
   "source": [
    "Or :\n",
    "<span class=\"fragment\"> $$\\begin{aligned}\n",
    "X& =\\dfrac{x}{2}+\\dfrac{x^2}{4}+\\dfrac{x^3}{12}+o(x^3)\n",
    "\\\\X^2&=\\left(\\dfrac{x}{2}+\\dfrac{x^2}{4}+\\dfrac{x^3}{12}+o(x^3)\\right) \\times \\left(\\dfrac{x}{2}+\\dfrac{x^2}{4}+\\dfrac{x^3}{12}+o(x^3)\\right)=\\dfrac{x^2}{4}+\\dfrac{x^3}{4}+o(x^3)\n",
    "\\\\X^3&=\\left(\\dfrac{x}{2}+\\dfrac{x^2}{4}+\\dfrac{x^3}{12}+o(x^3) \\right) \\times \\left(  \\dfrac{x^2}{4}+\\dfrac{x^3}{4}+o(x^3) \\right) = \\dfrac{x^3}{8}+o(x^3)\n",
    "\\\\ o(X^3)&=o(x^3)\n",
    "\\end{aligned} $$</span>"
   ]
  },
  {
   "cell_type": "markdown",
   "id": "9202c071",
   "metadata": {
    "slideshow": {
     "slide_type": "subslide"
    }
   },
   "source": [
    "Par conséquent : \n",
    "<span class=\"fragment\"> $$\\begin{aligned}\n",
    "\\dfrac{1}{1+e^x}&= \\dfrac{1}{2} \\left( 1-\\left(\\dfrac{x}{2}+\\dfrac{x^2}{4}+\\dfrac{x^3}{12}+o(x^3) \\right) +\\left( \\dfrac{x^2}{4}+\\dfrac{x^3}{4}+o(x^3) \\right) - \\left( \\dfrac{x^3}{8}+o(x^3) \\right) +o(x^3) \\right)\n",
    "\\\\&= \\dfrac12 -\\dfrac{x}{4}+\\dfrac{x^3}{48}+o(x^3) \\end{aligned} $$</span>\n",
    "\n",
    "<span class=\"fragment\"> Donc la courbe représentative de $f$ admet en 0 une tangente d'équation $y=\\dfrac12 -\\dfrac{x}{4}$.</span>\n",
    "\n",
    "<span class=\"fragment\"> On a $f(x)-\\left(\\dfrac12 -\\dfrac{x}{4} \\right)=\\dfrac{x^3}{48}+o(x^3)$ donc au voisinage de 0, la position de la courbe par rapport à la tangente est donnée par le signe de $\\dfrac{x^3}{48}$. Pour $x<0$ la courbe est en dessous de la tangente et pour $x>0$ la courbe est au dessus de la tangente.</span>"
   ]
  },
  {
   "cell_type": "markdown",
   "id": "22ea898e",
   "metadata": {
    "slideshow": {
     "slide_type": "slide"
    }
   },
   "source": [
    "### Détermination d'asymptotes obliques\n",
    "<span class=\"fragment\"> On suppose ici que $\\Lim{+\\infty} f=\\pm \\infty$ ou $\\Lim{-\\infty} f=\\pm \\infty$ et on est donc en train de chercher à déterminer si la courbe représentative de $f$, $\\mathcal{C}$, possède une asymptote oblique au voisinage de $\\pm \\infty$.</span>\n",
    "\n"
   ]
  },
  {
   "cell_type": "markdown",
   "id": "a410abd6",
   "metadata": {
    "slideshow": {
     "slide_type": "subslide"
    }
   },
   "source": [
    "<span class=\"fragment\"> Si $\\mathcal{C}$ possède une asymptote oblique d'équation $y=ax+b$ ($a\\neq 0$) en $\\pm \\infty$ alors on a $$f(x)=ax+b+\\e(x)$$ où $\\e$ est une fonction qui tend vers 0 en $\\pm \\infty$.</span>\n",
    "\n",
    "<span class=\"fragment\"> On pose alors $X=\\dfrac1x$ et ainsi lorsque $x$ tend vers $\\pm \\infty$, $X$ tend vers $0$. On a donc $$f\\left(\\dfrac1X \\right) =\\dfrac{a}{X}+b+\\e\\left(\\dfrac1X \\right) $$ ce qui nous donne $$Xf\\left(\\dfrac1X \\right) =a+bX+X\\e\\left(\\dfrac1X \\right)=a+bX+o(X)$$</span>"
   ]
  },
  {
   "cell_type": "markdown",
   "id": "e2380e3f",
   "metadata": {
    "slideshow": {
     "slide_type": "subslide"
    }
   },
   "source": [
    "Ainsi on voit que pour déterminer les coefficients de l'asymptote oblique il suffit de déterminer le développement limité d'ordre 1 au voisinage de 0 de $Xf\\left(\\dfrac1X \\right)$. Si on continue plus loin dans le développement limité on pourra obtenir la position de la courbe par rapport à son asymptote."
   ]
  },
  {
   "cell_type": "markdown",
   "id": "72324444",
   "metadata": {
    "slideshow": {
     "slide_type": "slide"
    }
   },
   "source": [
    "### Exemple \n",
    "Étudier la branche infinie en $+\\infty$ de la fonction $f$ définie sur $\\R$ par $f(x)=\\sqrt{\\dfrac{x^4}{x^2+1}}$.\n",
    "\n",
    "\n",
    "On remarque tout d'abord que $\\Lim{\\pm \\infty} f =+\\infty$. "
   ]
  },
  {
   "cell_type": "markdown",
   "id": "1bb25b8f",
   "metadata": {
    "slideshow": {
     "slide_type": "subslide"
    }
   },
   "source": [
    "* Etude en $+\\infty$ : \n",
    "\n",
    "On pose $X=\\dfrac1x$, comme on est au voisinage de $+\\infty$, $X$ est au voisinage de $0$ avec $X>0$.\n",
    "<span class=\"fragment\"> $$\\begin{aligned} f(x)=f\\left(\\dfrac1X \\right)& =\\sqrt{\\dfrac{1/X^4}{1/X^2+1}}\n",
    "\\\\ &=\\sqrt{\\dfrac{1}{X^2+X^4}}\n",
    "\\\\ &=\\dfrac{1}{\\sqrt{X^2(1+X^2)}}\n",
    "\\\\ & = \\dfrac{1}{X \\times \\sqrt{1+X^2}} \\quad \\text{ car } X>0\n",
    "\\\\& = \\dfrac{1}{X} \\times(1+X^2)^{-1/2}\n",
    "\\\\ &= \\dfrac1X \\left(1-\\dfrac12X^2 + o(X^2)\\right)\n",
    "\\\\&= \\dfrac{1}{X}-\\dfrac12 X+o(X) \\end{aligned}$$</span>"
   ]
  },
  {
   "cell_type": "markdown",
   "id": "23107645",
   "metadata": {
    "slideshow": {
     "slide_type": "subslide"
    }
   },
   "source": [
    "Donc on a au voisinage de $+\\infty$ : <span class=\"fragment\"> $$f(x)=x-\\dfrac{1}{2x}+o\\left(\\dfrac1x \\right)$$</span>\n",
    "\n",
    "<span class=\"fragment\"> On a donc $\\Lim{x \\to +\\infty} f(x)-x=0$ et ainsi la droite d'équation $y=x$ est asymptote à la courbe représentative de $f$ en $+\\infty$.</span>\n",
    "\n",
    "<span class=\"fragment\"> Comme $f(x)-x=-\\dfrac{1}{2x}+o\\left(\\dfrac1x \\right)$ et que en $+\\infty$ $-\\dfrac{1}{2x}<0$, la courbe est en dessous de l'asymptote."
   ]
  },
  {
   "cell_type": "code",
   "execution_count": 8,
   "id": "0dcae822",
   "metadata": {
    "slideshow": {
     "slide_type": "slide"
    }
   },
   "outputs": [],
   "source": [
    "from IPython.display import display,Math"
   ]
  },
  {
   "cell_type": "code",
   "execution_count": 12,
   "id": "798afdc4",
   "metadata": {
    "slideshow": {
     "slide_type": "subslide"
    }
   },
   "outputs": [],
   "source": [
    "from sympy.interactive import printing\n",
    "printing.init_printing(use_latex='mathjax')"
   ]
  },
  {
   "cell_type": "code",
   "execution_count": 1,
   "id": "3d5e71f6",
   "metadata": {
    "slideshow": {
     "slide_type": "slide"
    }
   },
   "outputs": [],
   "source": [
    "from __future__ import division\n",
    "import sympy as sym\n",
    "from sympy import *\n",
    "x, y, z = symbols(\"x y z\")\n",
    "k, m, n = symbols(\"k m n\", integer=True)\n",
    "f, g, h = map(Function, 'fgh')"
   ]
  },
  {
   "cell_type": "code",
   "execution_count": 2,
   "id": "1ac6f9ad",
   "metadata": {
    "slideshow": {
     "slide_type": "subslide"
    }
   },
   "outputs": [
    {
     "data": {
      "text/latex": [
       "$\\displaystyle 1 - x + \\frac{3 x^{2}}{2} - \\frac{7 x^{3}}{3} + O\\left(x^{4}\\right)$"
      ],
      "text/plain": [
       "1 - x + 3*x**2/2 - 7*x**3/3 + O(x**4)"
      ]
     },
     "execution_count": 2,
     "metadata": {},
     "output_type": "execute_result"
    }
   ],
   "source": [
    "h=1/(1+ln(1+x))\n",
    "h.series(x,0,4)\n",
    "\n",
    "\n"
   ]
  },
  {
   "cell_type": "code",
   "execution_count": 3,
   "id": "012a5cbe",
   "metadata": {
    "slideshow": {
     "slide_type": "subslide"
    }
   },
   "outputs": [
    {
     "data": {
      "text/latex": [
       "$\\displaystyle 1 + \\frac{x^{2}}{2} + \\frac{5 x^{4}}{24} + O\\left(x^{6}\\right)$"
      ],
      "text/plain": [
       "1 + x**2/2 + 5*x**4/24 + O(x**6)"
      ]
     },
     "execution_count": 3,
     "metadata": {},
     "output_type": "execute_result"
    }
   ],
   "source": [
    "f=1/cos(x)\n",
    "series(f,x, 0, 6)"
   ]
  },
  {
   "cell_type": "code",
   "execution_count": 4,
   "id": "2527ff8c",
   "metadata": {
    "slideshow": {
     "slide_type": "subslide"
    }
   },
   "outputs": [
    {
     "data": {
      "text/latex": [
       "$\\displaystyle \\frac{1}{2} - \\frac{x}{8} + \\frac{x^{2}}{16} - \\frac{5 x^{3}}{128} + \\frac{7 x^{4}}{256} - \\frac{21 x^{5}}{1024} + O\\left(x^{6}\\right)$"
      ],
      "text/plain": [
       "1/2 - x/8 + x**2/16 - 5*x**3/128 + 7*x**4/256 - 21*x**5/1024 + O(x**6)"
      ]
     },
     "execution_count": 4,
     "metadata": {},
     "output_type": "execute_result"
    }
   ],
   "source": [
    "g=1/(1+sqrt(x+1))\n",
    "g.series(x,0,6)"
   ]
  },
  {
   "cell_type": "code",
   "execution_count": 9,
   "id": "8dbb6060",
   "metadata": {
    "slideshow": {
     "slide_type": "slide"
    }
   },
   "outputs": [],
   "source": [
    "from ipywidgets import interact, widgets\n",
    "sym.init_printing()\n",
    "order = widgets.IntSlider(\n",
    "    value=2,\n",
    "    min=0,\n",
    "    max=10,\n",
    "    step=1,\n",
    "    description='Order:',\n",
    "    disabled=False,\n",
    "    continuous_update=True,\n",
    "    orientation='horizontal',\n",
    "    readout=True,\n",
    "    readout_format='d',\n",
    "    slider_color='red'\n",
    ")\n",
    "text = widgets.Text(\n",
    "    value='cos(x)',\n",
    "    placeholder='Ecrire la fonction içi',\n",
    "    description='Function:',\n",
    "    disabled=False\n",
    ")"
   ]
  },
  {
   "cell_type": "code",
   "execution_count": 10,
   "id": "cce0d5ec",
   "metadata": {
    "slideshow": {
     "slide_type": "slide"
    }
   },
   "outputs": [
    {
     "data": {
      "application/vnd.jupyter.widget-view+json": {
       "model_id": "58e502eb51be41eea8d7549b081ffb88",
       "version_major": 2,
       "version_minor": 0
      },
      "text/plain": [
       "interactive(children=(Text(value='cos(x)', description='Function:', placeholder='Ecrire la fonction içi'), Int…"
      ]
     },
     "metadata": {},
     "output_type": "display_data"
    }
   ],
   "source": [
    "def DL(fun, n):\n",
    "    try :\n",
    "        display(\n",
    "        Math('{} = {}'.format(\n",
    "                latex(eval(fun)),\n",
    "                latex(series(fun,x,0,n+1)\n",
    "                )\n",
    "             )))\n",
    "        \n",
    "    except:\n",
    "        print(\"vérifier la fonction\")\n",
    "        \n",
    "\n",
    "interact(DL, fun=text, n=order);"
   ]
  },
  {
   "cell_type": "code",
   "execution_count": 14,
   "id": "74079613",
   "metadata": {
    "slideshow": {
     "slide_type": "slide"
    }
   },
   "outputs": [
    {
     "data": {
      "image/png": "[encoded data removed]",
      "text/plain": [
       "<Figure size 864x504 with 1 Axes>"
      ]
     },
     "metadata": {
      "needs_background": "light"
     },
     "output_type": "display_data"
    }
   ],
   "source": [
    "import numpy as np\n",
    "from matplotlib import pyplot as plt\n",
    "plt.rcParams[\"figure.figsize\"] = [12.00, 7]\n",
    "plt.rcParams[\"figure.autolayout\"] = True\n",
    "x = np.linspace(-5, 10, 1000)\n",
    "y = np.sqrt(x**4/(1+x**2))\n",
    "plt.grid()\n",
    "plt.plot(x, y, label=r'$f(x)=\\sqrt{\\dfrac{x^4}{1+x^2}}$')\n",
    "plt.plot(x,x,'r',label=r'$\\Delta: y=x$')\n",
    "plt.legend(loc='upper left')\n",
    "plt.show()"
   ]
  }
 ],
 "metadata": {
  "celltoolbar": "Diaporama",
  "kernelspec": {
   "display_name": "Python 3",
   "language": "python",
   "name": "python3"
  },
  "language_info": {
   "codemirror_mode": {
    "name": "ipython",
    "version": 3
   },
   "file_extension": ".py",
   "mimetype": "text/x-python",
   "name": "python",
   "nbconvert_exporter": "python",
   "pygments_lexer": "ipython3",
   "version": "3.8.8"
  }
 },
 "nbformat": 4,
 "nbformat_minor": 5
}
