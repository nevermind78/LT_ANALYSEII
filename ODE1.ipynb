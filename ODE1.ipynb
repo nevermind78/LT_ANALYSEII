{
 "cells": [
  {
   "cell_type": "markdown",
   "metadata": {},
   "source": [
    "## Equation différentielle du premier ordre"
   ]
  },
  {
   "cell_type": "markdown",
   "metadata": {},
   "source": [
    "### Exercice 1 :\n",
    "> Soit l'équation différentielle $E : (1 + e^{-x})Y' − Y = (1 + 2x)e^{x} + (1 + x)e^{2x}$\n",
    "\n",
    "1. Trouver la forme générale des solutions de l’équation homogène associée à $E$.\n",
    "2. Chercher une solution de $E$ de la forme $Y(x) = \\alpha xe^{2x}$\n",
    "où $\\alpha$ est une constante réelle à\n",
    "déterminer.\n",
    "3. Donner alors la forme générale des solutions de $E$"
   ]
  },
  {
   "cell_type": "markdown",
   "metadata": {},
   "source": [
    "### Exercice 2:\n",
    "> On considère l’équation différentielle $$E : (x + 1)(x^2 + 1)Y′ + 2xY =\n",
    "\\frac{(x + 1)^2}{\\sqrt{x^2 + 1}},\\quad  x \\in ] − 1, +\\infty[.$$\n",
    "\n",
    "1. Trouver la forme générale des solutions de l’équation homogène associée à $E$.\n",
    "2. Déterminer une solution particulière de $E$.\n",
    "3. Donner alors la forme générale des solutions de $E$.\n",
    "4. Déterminer la solution $Y_1$ de $E$ telle que $Y_1(0) = 1$.\n"
   ]
  },
  {
   "cell_type": "markdown",
   "metadata": {},
   "source": [
    "### Exercice 3:\n",
    "Résoudre les équations différentielles suivantes :\n",
    "1. $Y' + x^2Y = x^2.$\n",
    "2. $(1 + x^2)Y' − Y = 1$ avec $Y (0) = 0$.\n",
    "3. $\\cosh(x)Y' + \\sinh(x)Y =\\frac{1}{\\sqrt{1-x^2}},\\quad x \\in] − 1, 1[$.\n"
   ]
  },
  {
   "cell_type": "markdown",
   "metadata": {},
   "source": [
    "## Résolution avec `Sympy`\n",
    "\n",
    "### Exemple 1 : (E:) $\\cosh(x)Y' + \\sinh(x)Y =\\frac{1}{\\sqrt{1-x^2}},\\quad x \\in] − 1, 1[$."
   ]
  },
  {
   "cell_type": "code",
   "execution_count": 9,
   "metadata": {},
   "outputs": [],
   "source": [
    "import sympy as sp # Importation de la bibliothèqye `sympy` version 1.5.1\n",
    "x = sp.symbols('x') # Définir 'x' comme variable symbolique\n",
    "y = sp.Function('y')# Définir y comme Fonction \n"
   ]
  },
  {
   "cell_type": "code",
   "execution_count": 7,
   "metadata": {},
   "outputs": [],
   "source": [
    "# Définir l'équation différentielle\n",
    "diffeq = sp.Eq(sp.cosh(x)*sp.Derivative(y(x),x) +sp.sinh(x)* y(x), 1/sp.sqrt(1-x**2)) \n",
    "res = sp.dsolve(diffeq)"
   ]
  },
  {
   "cell_type": "code",
   "execution_count": 10,
   "metadata": {},
   "outputs": [
    {
     "data": {
      "text/latex": [
       "$\\displaystyle y{\\left(x \\right)} \\sinh{\\left(x \\right)} + \\cosh{\\left(x \\right)} \\frac{d}{d x} y{\\left(x \\right)} = \\frac{1}{\\sqrt{1 - x^{2}}}$"
      ],
      "text/plain": [
       "Eq(y(x)*sinh(x) + cosh(x)*Derivative(y(x), x), 1/sqrt(1 - x**2))"
      ]
     },
     "execution_count": 10,
     "metadata": {},
     "output_type": "execute_result"
    }
   ],
   "source": [
    "diffeq"
   ]
  },
  {
   "cell_type": "code",
   "execution_count": 8,
   "metadata": {},
   "outputs": [
    {
     "data": {
      "text/latex": [
       "$\\displaystyle y{\\left(x \\right)} = \\frac{C_{1} + \\operatorname{asin}{\\left(x \\right)}}{\\cosh{\\left(x \\right)}}$"
      ],
      "text/plain": [
       "Eq(y(x), (C1 + asin(x))/cosh(x))"
      ]
     },
     "execution_count": 8,
     "metadata": {},
     "output_type": "execute_result"
    }
   ],
   "source": [
    "res"
   ]
  },
  {
   "cell_type": "markdown",
   "metadata": {},
   "source": [
    "### Exemple 2 : (E:) $(1 + x^2)Y' − Y = 1$ avec $Y (0) = 0$."
   ]
  },
  {
   "cell_type": "code",
   "execution_count": 11,
   "metadata": {},
   "outputs": [
    {
     "data": {
      "text/plain": [
       "{y(0): 0}"
      ]
     },
     "execution_count": 11,
     "metadata": {},
     "output_type": "execute_result"
    }
   ],
   "source": [
    "ics={y(0): 0}# Conditions initiales\n",
    "ics"
   ]
  },
  {
   "cell_type": "code",
   "execution_count": 13,
   "metadata": {},
   "outputs": [],
   "source": [
    "diffeq = sp.Eq((1+x**2)*sp.Derivative(y(x),x) - y(x), 1) \n",
    "res = sp.dsolve(diffeq,ics=ics)"
   ]
  },
  {
   "cell_type": "code",
   "execution_count": 14,
   "metadata": {},
   "outputs": [
    {
     "data": {
      "text/latex": [
       "$\\displaystyle y{\\left(x \\right)} = e^{\\operatorname{atan}{\\left(x \\right)}} - 1$"
      ],
      "text/plain": [
       "Eq(y(x), exp(atan(x)) - 1)"
      ]
     },
     "execution_count": 14,
     "metadata": {},
     "output_type": "execute_result"
    }
   ],
   "source": [
    "res"
   ]
  },
  {
   "cell_type": "code",
   "execution_count": 49,
   "metadata": {},
   "outputs": [],
   "source": [
    "diffeq = sp.Eq((x+1)*(1+x**2)*sp.Derivative(y(x),x) +2*x* y(x), (x+1)*(x+1)/sp.sqrt(x**2+1))"
   ]
  },
  {
   "cell_type": "code",
   "execution_count": 50,
   "metadata": {},
   "outputs": [
    {
     "data": {
      "text/latex": [
       "$\\displaystyle 2 x y{\\left(x \\right)} + \\left(x + 1\\right) \\left(x^{2} + 1\\right) \\frac{d}{d x} y{\\left(x \\right)} = \\frac{\\left(x + 1\\right)^{2}}{\\sqrt{x^{2} + 1}}$"
      ],
      "text/plain": [
       "Eq(2*x*y(x) + (x + 1)*(x**2 + 1)*Derivative(y(x), x), (x + 1)**2/sqrt(x**2 + 1))"
      ]
     },
     "execution_count": 50,
     "metadata": {},
     "output_type": "execute_result"
    }
   ],
   "source": [
    "diffeq"
   ]
  },
  {
   "cell_type": "code",
   "execution_count": null,
   "metadata": {},
   "outputs": [],
   "source": []
  },
  {
   "cell_type": "code",
   "execution_count": 51,
   "metadata": {},
   "outputs": [
    {
     "data": {
      "text/latex": [
       "$\\displaystyle AppliedPredicate\\left(x + 1\\right)$"
      ],
      "text/plain": [
       "Q.positive(x + 1)"
      ]
     },
     "execution_count": 51,
     "metadata": {},
     "output_type": "execute_result"
    }
   ],
   "source": [
    "sp.Q.positive(x+1)"
   ]
  },
  {
   "cell_type": "code",
   "execution_count": null,
   "metadata": {},
   "outputs": [],
   "source": [
    " with sp.assuming(sp.Q.positive(x)):\n",
    "    res=sp.dsolve(diffeq)"
   ]
  },
  {
   "cell_type": "code",
   "execution_count": 48,
   "metadata": {},
   "outputs": [
    {
     "data": {
      "text/latex": [
       "$\\displaystyle y{\\left(x \\right)} = \\frac{C_{1} \\left(x + 1\\right) e^{- \\operatorname{atan}{\\left(x \\right)}}}{\\sqrt{x^{2} + 1}}$"
      ],
      "text/plain": [
       "Eq(y(x), C1*(x + 1)*exp(-atan(x))/sqrt(x**2 + 1))"
      ]
     },
     "execution_count": 48,
     "metadata": {},
     "output_type": "execute_result"
    }
   ],
   "source": [
    "res"
   ]
  },
  {
   "cell_type": "code",
   "execution_count": null,
   "metadata": {},
   "outputs": [],
   "source": []
  }
 ],
 "metadata": {
  "kernelspec": {
   "display_name": "Python 3",
   "language": "python",
   "name": "python3"
  },
  "language_info": {
   "codemirror_mode": {
    "name": "ipython",
    "version": 3
   },
   "file_extension": ".py",
   "mimetype": "text/x-python",
   "name": "python",
   "nbconvert_exporter": "python",
   "pygments_lexer": "ipython3",
   "version": "3.7.6"
  }
 },
 "nbformat": 4,
 "nbformat_minor": 4
}
