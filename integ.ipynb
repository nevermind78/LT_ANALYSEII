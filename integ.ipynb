{
 "cells": [
  {
   "cell_type": "markdown",
   "id": "a4cc77d2",
   "metadata": {
    "slideshow": {
     "slide_type": "skip"
    }
   },
   "source": [
    "$\\newcommand{\\R}{\\mathbb{R}}$\n",
    "$\\newcommand{\\Rb}{\\overline{\\mathbb{R}}}$\n",
    "$\\newcommand{\\N}{\\mathbb{N}}$\n",
    "$\\newcommand{\\Z}{\\mathbb{Z}}$\n",
    "$\\newcommand{\\C}{\\mathbb{C}}$\n",
    "$\\newcommand{\\K}{\\mathbb{K}}$\n",
    "$\\newcommand{\\cD}{\\mathcal{D}}$\n",
    "$\\newcommand{\\eps}{\\varepsilon}$\n",
    "$\\newcommand{\\T}{\\theta}$\n",
    "$\\newcommand{\\ic}{\\operatorname{i}}$\n",
    "$\\newcommand{\\Lim}[1]{\\displaystyle{\\lim_{#1}} ~}$\n",
    "$\\newcommand{\\Somme}[2]{\\displaystyle{\\sum_{#1}^{#2}}}$\n",
    "$\\newcommand{\\Int}[2]{\\displaystyle{\\int_{#1}^{#2}}}$\n",
    "$\\newcommand{\\equi}[1]{\\underset{#1}{\\sim}}$\n",
    "$\\newcommand{\\B}{\\mathcal{B}}$\n",
    "$\\newcommand{\\M}{\\mathcal{M}}$\n",
    "$\\newcommand{\\Lc}{\\mathcal{L}}$\n",
    "$\\newcommand{\\la}{\\lambda}$\n",
    "$\\newcommand{\\Om}{\\Omega}$\n",
    "$\\newcommand{\\om}{\\omega}$\n",
    "$\\newcommand{\\Pc}{\\mathcal{P}}$\n",
    "$\\newcommand{\\Ac}{\\mathcal{A}}$\n",
    "$\\newcommand{\\Cc}{\\mathcal{C}}$\n",
    "$\\newcommand{\\Sc}{\\mathcal{S}}$\n",
    "$\\newcommand{\\Nc}{\\mathcal{N}}$\n",
    "$\\newcommand{\\Mat}{\\text{Mat}}$\n",
    "$\\newcommand{\\Produit}[2]{\\displaystyle{\\prod_{#1}^{#2}}}$\n",
    "$\\newcommand{\\ima}{\\text{Im}}$\n",
    "$\\newcommand{\\mI}{-\\infty}$\n",
    "$\\newcommand{\\pI}{+\\infty}$\n",
    "$\\newcommand{\\e}{\\mathrm{e}}$"
   ]
  },
  {
   "cell_type": "markdown",
   "id": "70744933",
   "metadata": {
    "slideshow": {
     "slide_type": "slide"
    }
   },
   "source": [
    "<center>\n",
    "<img src=\"logo.png\" width=150 height=150 />\n",
    "\n",
    "<h1> Primitive et Calcul d'intégrale &nbsp;&nbsp;&nbsp;&nbsp;&nbsp;&nbsp;1LT&nbsp;&nbsp;&nbsp;&nbsp;&nbsp;&nbsp; Abdallah Khemais </h1>\n",
    "</center>\n",
    "\n",
    "Dans toute cette partie, $f$ désigne une fonction définie sur $\\cD$ une partie de $\\R$ et à valeurs dans $\\R$.\n",
    "\n"
   ]
  },
  {
   "cell_type": "markdown",
   "id": "6992fc1b",
   "metadata": {
    "slideshow": {
     "slide_type": "slide"
    }
   },
   "source": [
    "# Primitive\n",
    "## Définition\n",
    "Soit $f$ une fonction définie sur un intervalle $I$. On appelle **primitive de $f$ sur $I$** toute fonction $F$ dérivable sur $I$ telle que $F'=f$."
   ]
  },
  {
   "cell_type": "markdown",
   "id": "e887a9ee",
   "metadata": {
    "slideshow": {
     "slide_type": "subslide"
    }
   },
   "source": [
    "## Propriété\n",
    "Soit $f$ une fonction définie sur $I$ et $F$ une primitive de $f$. Alors l'ensemble des primitives de $f$ sur $I$ est l'ensemble des fonctions de la forme $F+k$ où $k \\in \\R$."
   ]
  },
  {
   "cell_type": "markdown",
   "id": "cb010523",
   "metadata": {
    "slideshow": {
     "slide_type": "subslide"
    }
   },
   "source": [
    "## Propriété\n",
    "Soit $f$ une fonction définie sur $I$ et $x_0 \\in I$ et $y_0 \\in \\R$. Alors il existe une unique primitive $F$ de $f$ sur $I$ telle que $F(x_0)=y_0$."
   ]
  },
  {
   "cell_type": "markdown",
   "id": "bf6b266c",
   "metadata": {
    "slideshow": {
     "slide_type": "subslide"
    }
   },
   "source": [
    "## Théorème\n",
    "Soit $f$ une fonction continue sur $I$. Alors $f$ admet au moins une primitive sur $I$."
   ]
  },
  {
   "cell_type": "markdown",
   "id": "21e507d6",
   "metadata": {
    "slideshow": {
     "slide_type": "slide"
    }
   },
   "source": [
    "# Primitive Usuelle\n",
    "\n",
    "$$\\begin{array}{|c|c|c|}\n",
    "\\hline f(x) & F(x) & I \\\\ \n",
    "\\hline x^n (n \\in \\N) & \\dfrac{x^{n+1}}{n+1} & \\R \\\\\n",
    "\\hline \\dfrac{1}{x^n} (n \\in \\N \\setminus \\{1\\}) & \\dfrac{-1}{(n-1)x^{n-1}} & \\R^{+*} ou \\R^{-*} \\\\ \n",
    "\\hline x^{\\alpha} (\\alpha \\in \\R^+) & \\dfrac{x^{\\alpha+1}}{\\alpha+1} & \\R^{+*} \\\\ \n",
    "\\hline \\dfrac{1}{x^\\alpha} (\\alpha \\in \\R^+ \\setminus \\{1\\}) & \\dfrac{-1}{(\\alpha-1)x^{\\alpha-1}} & \\R^{+*} \\\\ \n",
    "\\hline \\dfrac{1}{x} & \\ln |x| & \\R^{+*} ou \\R^{-*} \\\\ \n",
    "\\hline e^x & e^x & \\R \\\\ \n",
    "\\hline \n",
    "\\end{array} $$\n"
   ]
  },
  {
   "cell_type": "markdown",
   "id": "fc42f630",
   "metadata": {
    "slideshow": {
     "slide_type": "subslide"
    }
   },
   "source": [
    "$$\\begin{array}{|c|c|c|}\n",
    "\\hline f(x) & F(x) & I \\\\ \n",
    "\\hline u'(x)(u(x))^n (n \\in \\N) & \\dfrac{1}{n+1} (u(x))^{n+1} & I \\subset \\cD_u \\\\ \n",
    "\\hline \\dfrac{u'(x)}{(u(x))^n} (n \\in \\N \\setminus \\{1\\}) & \\dfrac{-1}{(n-1)(u(x))^{n-1}} & I \\subset \\cD_u \\quad \\text{et u ne s'annule par sur } I \\\\ \n",
    "\\hline u'(x)(u(x))^{\\alpha} (\\alpha \\in \\R^+) & \\dfrac{1}{\\alpha+1} (u(x))^{\\alpha +1} & u \\quad\\text{strictement positive sur } I \\\\ \n",
    "\\hline \\dfrac{u'(x)}{(u(x))^{\\alpha}} (\\alpha \\in \\R^+\\setminus\\{1\\}) & \\dfrac{-1}{(\\alpha-1)(u(x))^{\\alpha -1}}  & u\\quad \\text{strictement positive sur } I \\\\ \n",
    "\\hline \\dfrac{u'(x)}{u(x)} & \\ln |u(x)| & u\\quad \\text{ne s'annule pas sur } I \\\\ \n",
    "\\hline u'(x)e^{u(x)} & e^{u(x)} & I\\subset \\cD_u \\\\ \n",
    "\\hline \n",
    "\\end{array}$$"
   ]
  },
  {
   "cell_type": "markdown",
   "id": "86fb0c5c",
   "metadata": {
    "slideshow": {
     "slide_type": "slide"
    }
   },
   "source": [
    "# Définition de l'intégrale\n",
    "## Fonctions Continues\n",
    "### Définition :\n",
    "Soit $f$ une fonction continue sur le segment $[a;b]$ et $F$ une primitive de $f$ sur $[a;b]$. On appelle **intégrale de $f$ de $a$ à $b$**, le nombre réel : $$\\int_a^b f(t)\\, dt=F(b)-F(a)$$"
   ]
  },
  {
   "cell_type": "markdown",
   "id": "6bb91361",
   "metadata": {
    "slideshow": {
     "slide_type": "subslide"
    }
   },
   "source": [
    "### Remarques\n",
    "\n",
    "\n",
    "* Le résultat pour $\\Int{a}{b} f(t) \\,dt$ ne dépend pas de la primitive que l'on a choisit car si $G$ est une autre primitive, alors $G=F+k$ et donc $G(b)-G(a)=F(b)+k-F(a)-k=F(b)-F(a)$.\n",
    "* On note aussi $\\Int{a}{b} f(t) \\, dt =[F(t)]_a^b$.\n",
    "* $\\Int{a}{a} f(t) \\, dt = 0$\n",
    "* $\\Int{b}{a} f(t) \\, dt =-\\Int{a}{b} f(t) \\, dt$\n",
    "* Lorsque l'on peut calculer $\\Int{a}{b} f(t) \\, dt$, on dit que la fonction $f$ est **intégrable sur $[a;b]$ ou que l'intégrale $\\Int{a}{b} f(t) \\, dt$ est convergente.**\n"
   ]
  },
  {
   "cell_type": "markdown",
   "id": "4f026c15",
   "metadata": {
    "slideshow": {
     "slide_type": "slide"
    }
   },
   "source": [
    "# Propriétés de l'intégrale\n",
    "\n",
    "Dans toute cette partie $a$ et $b$ sont deux réels tels que $a<b$.\n"
   ]
  },
  {
   "cell_type": "markdown",
   "id": "cef7559c",
   "metadata": {
    "slideshow": {
     "slide_type": "subslide"
    }
   },
   "source": [
    "## Linéarité \n",
    "### Théorème\n",
    "Soient $f$ et $g$ deux fonctions continues  sur $[a;b]$ et soient $\\lambda$ et $\\mu$ deux réels. Alors $\\lambda f+\\mu g$ est continue  et : $$\\Int{a}{b} (\\lambda f(t)+\\mu g(t)) \\, dt= \\lambda \\Int{a}{b} f(t) \\, dt +\\mu \\Int{a}{b} g(t) \\, dt$$"
   ]
  },
  {
   "cell_type": "markdown",
   "id": "d1955b52",
   "metadata": {
    "slideshow": {
     "slide_type": "subslide"
    }
   },
   "source": [
    "## Positivité et inégalité\n",
    "### Théorème\n",
    "Soit $f$ une fonction continue sur $[a;b]$, **$\\underline{\\text{avec } a<b}$** , telle que $f$ est positive sur $[a;b]$. Alors : $$\\Int{a}{b} f(t) \\, dt \\geqslant 0$$"
   ]
  },
  {
   "cell_type": "markdown",
   "id": "10411d4c",
   "metadata": {
    "slideshow": {
     "slide_type": "subslide"
    }
   },
   "source": [
    "### Corollaire\n",
    "Soient $f$ et $g$ deux fonctions continues sur  $[a;b]$, **$\\underline{\\text{avec } a<b}$** , et telles que $\\forall t \\in [a;b]$ $f(t) \\leqslant g(t)$. Alors : $$\\Int{a}{b} f(t) \\, dt \\leqslant \\Int{a}{b} g(t) \\, dt$$"
   ]
  },
  {
   "cell_type": "markdown",
   "id": "342b263e",
   "metadata": {
    "slideshow": {
     "slide_type": "subslide"
    }
   },
   "source": [
    "### Corollaire\n",
    "Soit $f$ une fonction continue sur $[a;b]$, **$\\underline{\\text{avec } a<b}$** , alors : \n",
    "$$\\left| \\Int{a}{b} f(t) \\, dt \\right| \\leqslant \\Int{a}{b} |f(t) | \\, dt$$"
   ]
  },
  {
   "cell_type": "markdown",
   "id": "ed764845",
   "metadata": {
    "slideshow": {
     "slide_type": "subslide"
    }
   },
   "source": [
    "### Théorème\n",
    "Soit $f$ une fonction **continue** sur $[a;b]$, **$\\underline{\\text{avec } a<b}$** . Si $f \\geqslant 0$ et si $\\Int{a}{b} f(t) \\, dt=0$ alors $f(t)=0$ $\\forall t \\in [a;b]$."
   ]
  },
  {
   "cell_type": "markdown",
   "id": "1e91396d",
   "metadata": {
    "slideshow": {
     "slide_type": "subslide"
    }
   },
   "source": [
    "## Relation de Chasle\n",
    "### Théorème\n",
    "Soit $f$ une fonction continue sur un intervalle $I$ et $a$, $b$ et $c$ trois réels de cet intervalle. Alors : \n",
    "$$\\int_{a}^{b} f(t) \\, dt=\\int_{a}^{c} f(t) \\, dt+\\int_{c}^{b} f(t) \\, dt$$"
   ]
  },
  {
   "cell_type": "markdown",
   "id": "a40f064e",
   "metadata": {
    "slideshow": {
     "slide_type": "slide"
    }
   },
   "source": [
    "# Technique de Calcul\n",
    "\n",
    "## Intégration par partie\n",
    "### Théorème\n",
    "Soient $u$ et $v$ deux fonctions de classe $\\Cc^1$ sur $[a;b]$. \n",
    "$$\\Int{a}{b} u(t)v'(t)\\, dt =[u(t)v(t)]_a^b-\\Int{a}{b} u'(t)v(t) \\, dt$$"
   ]
  },
  {
   "cell_type": "markdown",
   "id": "2c552142",
   "metadata": {
    "slideshow": {
     "slide_type": "subslide"
    }
   },
   "source": [
    "### Exemple \n",
    "On cherche à calculer pour tout $x \\in \\R^{+*}$, $\\Int{1}{x} \\ln t \\, dt$. \n",
    "\n",
    "On pose : $$\\left\\lbrace  \\begin{array}{ll} u(t)=\\ln t & u'(t) =\\dfrac1t \\\\ v'(t)=1 & v(t)=t \\end{array} \\right.$$\n",
    "\n",
    "Les fonction $u$ et $v$ sont de classe $\\Cc^1$ sur $\\R^{+*}$ donc en particulier sur $[1;x]$. Ainsi par intégration par partie on a : $$\\begin{aligned} \\int_1^x \\ln t \\, dt& = [t\\ln t]_1^x -\\int_1^x t \\times \\dfrac1t \\, dt\n",
    "\\\\&= x\\ln x-x+1 \\end{aligned}$$"
   ]
  },
  {
   "cell_type": "markdown",
   "id": "6e5abd1b",
   "metadata": {
    "slideshow": {
     "slide_type": "subslide"
    }
   },
   "source": [
    "### Remarque\n",
    "\n",
    "On voit donc que $x \\to x\\ln x-x +1$ est une primitive de $x\\to \\ln x$ et donc $x\\to x\\ln x -x$ en est aussi une."
   ]
  },
  {
   "cell_type": "markdown",
   "id": "dd307bd7",
   "metadata": {
    "slideshow": {
     "slide_type": "slide"
    }
   },
   "source": [
    "Justifier l'existence des intégrales suivantes puis les calculer :\n",
    "\n",
    "\n",
    "$I_{1}=\\int\\limits_{-1}^{1}(t+1)(t+2)^{2}dt,$  $I_{2}=\\int\\limits_{0}^{4}%\n",
    "\\sqrt{x}\\left( {x-2\\sqrt{x}}\\right) dx,$  $I_{3}=\\int%\n",
    "\\limits_{1}^{2}3^{u}du,$  $I_{4}=\\int\\limits_{1}^{4}\\dfrac{{1}}{y\\sqrt{y}%\n",
    "}dy,$\n",
    "\n",
    "\n",
    "$I_{5}=\\int\\limits_{0}^{1}(2z-1)\\exp (z^{2}-z)dz,$   $I_{6}=\\int%\n",
    "\\limits_{1}^{2}\\dfrac{a{^{2}}}{\\sqrt{1+a^{3}}}da,$  $I_{7}=\\int%\n",
    "\\limits_{1}^{2}\\dfrac{2\\sqrt{c}}{2+3c^{3/2}}dc,$ \n",
    "\n",
    "$I_{8}=\\int\\limits_{1}^{e}\\dfrac{{(\\ln b)^{5}}}{{b}}db,$  $ \n",
    "I_{9}=\\int\\limits_{0}^{(\\ln 2)/2}\\dfrac{e^{2t}}{e^{2t}+2}dt,$  $ \n",
    "I_{10}=\\int\\limits_{e}^{e^{3}}\\dfrac{\\ln (3\\gamma )}{\\gamma }d\\gamma ,$ \n",
    "$I_{11}=\\int\\limits_{0}^{2}\\beta ^{4}\\exp (-\\beta ^{5})d\\beta ,$\n",
    "\n",
    "\n",
    "$I_{12}=\\int\\limits_{1/2}^{3/2}\\dfrac{1-\\alpha }{(\\alpha ^{2}-2\\alpha )^{4}} \n",
    "d\\alpha ,$\\quad $I_{13}=\\int\\limits_{0}^{2}x^{2}(x^{3}+1)^{3/2}dx,$  $ \n",
    "I_{14}=\\int\\limits_{0}^{1}\\dfrac{s^{2004}}{(1+s^{2005})^{2006}}ds,$ \n",
    "\n",
    "\n",
    "$I_{15}=\\int\\limits_{1}^{4}\\dfrac{e^{-\\sqrt{\\zeta }}}{\\sqrt{\\zeta }}d\\zeta ,$ \n",
    "  $I_{16}=\\int\\limits_{-4}^{4}\\dfrac{e^{u}-e^{-u}}{e^{u}+e^{-u}}du,$ \n",
    "  $I_{17}=\\int\\limits_{1}^{\\sqrt{3}}\\dfrac{\\exp (-3/v^{2})}{v^{3}}dv,\\\n",
    "I_{18}=\\int\\limits_{0}^{1}\\dfrac{y^{4}}{\\sqrt[3]{1+7y^{5}}}dy$"
   ]
  },
  {
   "cell_type": "markdown",
   "id": "e3e7fed5",
   "metadata": {
    "slideshow": {
     "slide_type": "slide"
    }
   },
   "source": [
    "## changement de variable\n",
    "### Théorème\n",
    "Soit $f$ une fonction intégrable sur $[a;b]$ et $\\varphi$ une fonction de classe $\\Cc^1$ sur $[\\alpha,\\beta]$ avec $\\varphi([\\alpha, \\beta]) \\subset [a;b]$. Alors on a : \n",
    "$$\\int_{\\varphi(\\alpha)}^{\\varphi(\\beta)} f(x) \\, dx = \\int_{\\alpha}^{\\beta} f(\\varphi(t)) \\varphi'(t) \\,dt$$\n"
   ]
  },
  {
   "cell_type": "markdown",
   "id": "237b86a1",
   "metadata": {
    "slideshow": {
     "slide_type": "subslide"
    }
   },
   "source": [
    "### Méthode générale \n",
    "\n",
    "On cherche à calculer $\\Int{a}{b} f(x)\\, dx$.\n",
    "\n",
    "* On trouve le changement de variable qui nous semble judicieux, c'est à dire on pose $x=\\varphi(t)$ ou $t=\\phi(x)$\n",
    "\n",
    "* On peut alors écrire $dx=\\varphi'(t) dt$ ou $dt=\\phi'(x) dx$\n",
    "\n",
    "* On remplace dans l'intégrale pour n'avoir plus que la variable $t$ qui apparait. \n",
    "\n",
    "* Il faut aussi penser à modifier les bornes : dans notre intégrale c'est $x$ qui varie de $a$ à $b$, un fois le changement de variable effectué les bornes doivent représenter les nombres entre lesquels $t$ varie."
   ]
  },
  {
   "cell_type": "markdown",
   "id": "ad7f956f",
   "metadata": {
    "slideshow": {
     "slide_type": "subslide"
    }
   },
   "source": [
    "### Exemple\n",
    "\n",
    "On considère l'intégrale $I=\\Int{0}{1} \\dfrac{(x+\\sqrt{x^2+1})^2}{\\sqrt{x^2+1}} \\, dx$. Effectuer  le changement de variable $t=x+\\sqrt{x^2+1}$ et en déduire la valeur de $I$. \n",
    "\n",
    "\n",
    "* Ici il est impossible d'exprimer $x$ en fonction de $t$.\n",
    "\n",
    "* On a $dt=\\left(1+\\dfrac{2x}{2\\sqrt{x^2+1}}\\right) dx=\\dfrac{x+\\sqrt{x^2+1}}{\\sqrt{x^2+1}} dx$ et $t$ varie entre 1 et $1+\\sqrt{2}$.\n",
    "\n",
    "* Donc $I=\\Int{0}{1} (x+\\sqrt{x^2+1}) \\times  \\dfrac{x+\\sqrt{x^2+1}}{\\sqrt{x^2+1}} \\, dx = \\Int{1}{1+\\sqrt{2}} tdt=\\left[ \\dfrac{t^2}{2} \\right]_{1}^{1+\\sqrt{2}} = 1+\\sqrt{2}$\n",
    "\n"
   ]
  },
  {
   "cell_type": "markdown",
   "id": "aa1a998d",
   "metadata": {
    "slideshow": {
     "slide_type": "slide"
    }
   },
   "source": [
    "## Exercices \n",
    "1. Calculer la primitive de $ I=\\int\\frac{dx}{x(x^2+3)}$\n",
    "2. Calculer la primitive de $G(x)= \\frac{x^6-9x^2-3}{x^4-3x^2-4}$"
   ]
  },
  {
   "cell_type": "markdown",
   "id": "58d696c7",
   "metadata": {
    "slideshow": {
     "slide_type": "subslide"
    }
   },
   "source": [
    "### 1. Première méthode \n",
    "* Changement de variable $x=\\varphi(t)=\\frac1t$\n",
    "\n",
    "posons $x=\\varphi(t)=\\frac1t$ d'ou $dx=-\\frac1{t^2}dt$. Par substitution dans $I$ nous obtenons :\n",
    "\n",
    "$I=\\int-\\frac{dt}{t^2(\\frac1{t^2}+3)\\frac1t}=-\\int\\frac t{1+3t^2}dt=-\\frac16\\int\\frac{6t}{1+3t^2}dt$\n",
    "\n",
    "$I=-\\frac16\\ln(1+3t^2)+C=-\\frac16\\ln(1+3\\times\\frac1{x^2})+C$\n",
    "\n",
    "$I=-\\frac16\\ln(\\frac{x^2+3}{x^2})+C=\\boxed{\\frac16\\ln(\\frac{x^2}{x^2+3})+C}=\\dfrac{1}{3}\\ln|x|-\\dfrac{1}{6}\\ln{(x^2+3)}+C$\n",
    "\n"
   ]
  },
  {
   "cell_type": "markdown",
   "id": "0ce1b8dc",
   "metadata": {},
   "source": [
    "### 1. Deuxième méthode \n",
    "* Décomposition en élément simple de $\\dfrac{1}{x(x^2+3)}$\n",
    "\n",
    "$$\\frac{1}{x(x^2+3)}=\\frac{a}{x}+\\frac{cx+d}{x^2+3}$$\n",
    "\n",
    "$a=\\displaystyle\\lim_{x\\to 0}x\\times\\dfrac{1}{x(x^2+3)}=\\displaystyle\\lim_{x\\to 0}\\dfrac{1}{x^2+3}=\\dfrac{1}{3}$\n",
    "\n",
    "\n"
   ]
  },
  {
   "cell_type": "markdown",
   "id": "90fa45aa",
   "metadata": {
    "slideshow": {
     "slide_type": "subslide"
    }
   },
   "source": [
    "\n",
    "$\\begin{array}{lll}\\displaystyle\\lim_{x\\to i\\sqrt{3}}(x^2+3)\\times\\dfrac{1}{x(x^2+3)}&=&\\displaystyle\\lim_{x\\to i\\sqrt{3}}\\dfrac{1}{x}=\\dfrac{1}{i\\sqrt{3}}=\\dfrac{-i\\sqrt{3}}{3}\\\\&=&\\displaystyle\\lim_{x\\to i\\sqrt{3}}(x^2+3)\\times\\left(\\frac{a}{x}+\\frac{cx+d}{x^2+3}\\right)\n",
    "\\\\&=&\\displaystyle\\lim_{x\\to i\\sqrt{3}}(x^2+3)\\times\\left(\\frac{a}{x}\\right)+cx+d\n",
    "\\\\&=& ic\\sqrt{3}+d\n",
    "\\end{array}$\n",
    "\n",
    "par identification on obtient $c=\\dfrac{-1}{3}$ et $d=0$\n"
   ]
  },
  {
   "cell_type": "markdown",
   "id": "5cb9c054",
   "metadata": {
    "slideshow": {
     "slide_type": "subslide"
    }
   },
   "source": [
    "D'où\n",
    "$$\\frac{1}{x(x^2+3)}=\\frac{1/3}{x}+\\frac{1/3x}{x^2+3}$$\n",
    "Finalement on a :\n",
    "$$\\int\\frac{dx}{x(x^2+3)}=\\int\\frac{1/3}{x}-\\frac{1/3x}{x^2+3}dx$$\n"
   ]
  },
  {
   "cell_type": "markdown",
   "id": "38a5ce30",
   "metadata": {
    "slideshow": {
     "slide_type": "subslide"
    }
   },
   "source": [
    "$\\displaystyle\\int\\frac{1/3}{x}dx=1/3\\ln|x|+c$\n",
    "\n",
    "$\\displaystyle\\int\\frac{1/3x}{x^2+3}dx=$\n",
    "$\\dfrac{1}{{\\color{red}2}}\\dfrac{1}{3}\\displaystyle\\int\\frac{{\\color{red}2}x}{(x^2+3)}dx=\\dfrac{1}{6}\\ln{(x^2+3)}+c'$\n",
    "$$\\int\\frac{dx}{x(x^2+3)}=\\dfrac{1}{3}\\ln|x|-\\dfrac{1}{6}\\ln{(x^2+3)}+c$$"
   ]
  },
  {
   "cell_type": "code",
   "execution_count": null,
   "id": "77113954",
   "metadata": {
    "slideshow": {
     "slide_type": "slide"
    }
   },
   "outputs": [],
   "source": [
    "from IPython.display import display,Math"
   ]
  },
  {
   "cell_type": "code",
   "execution_count": null,
   "id": "d7941cba",
   "metadata": {
    "slideshow": {
     "slide_type": "subslide"
    }
   },
   "outputs": [],
   "source": [
    "from sympy.interactive import printing\n",
    "printing.init_printing(use_latex='mathjax')"
   ]
  },
  {
   "cell_type": "code",
   "execution_count": null,
   "id": "2a5d9d0c",
   "metadata": {
    "slideshow": {
     "slide_type": "subslide"
    }
   },
   "outputs": [],
   "source": [
    "from __future__ import division\n",
    "import sympy as sym\n",
    "from sympy import *\n",
    "x, y, z = symbols(\"x y z\")\n",
    "k, m, n = symbols(\"k m n\", integer=True)\n",
    "f, g, h = map(Function, 'fgh')"
   ]
  },
  {
   "cell_type": "code",
   "execution_count": null,
   "id": "6fbc7e3a",
   "metadata": {
    "slideshow": {
     "slide_type": "subslide"
    }
   },
   "outputs": [],
   "source": [
    "h=ln(x)\n",
    "integrate(h,x)"
   ]
  },
  {
   "cell_type": "code",
   "execution_count": null,
   "id": "b46cedea",
   "metadata": {
    "slideshow": {
     "slide_type": "subslide"
    }
   },
   "outputs": [],
   "source": [
    "integrate(ln(x),(x,1,exp(1)))"
   ]
  },
  {
   "cell_type": "code",
   "execution_count": null,
   "id": "8a162cc5",
   "metadata": {
    "slideshow": {
     "slide_type": "slide"
    }
   },
   "outputs": [],
   "source": [
    "from ipywidgets import interact, widgets\n",
    "sym.init_printing()\n",
    "\n",
    "text = widgets.Text(\n",
    "    value='cos(x)',\n",
    "    placeholder='Ecrire la fonction içi',\n",
    "    description='Function:',\n",
    "    disabled=False\n",
    ")"
   ]
  },
  {
   "cell_type": "code",
   "execution_count": null,
   "id": "5c59e7d3",
   "metadata": {
    "slideshow": {
     "slide_type": "subslide"
    }
   },
   "outputs": [],
   "source": [
    "def DL(fun):\n",
    "    try :\n",
    "        display(\n",
    "        Math('{} = {}'.format(\n",
    "                r'$\\int{}dx'.format(latex(eval(fun))),\n",
    "                latex(integrate(fun,x)\n",
    "                )\n",
    "             )))\n",
    "        \n",
    "    except:\n",
    "        print(\"vérifier la fonction\")       \n",
    "\n",
    "interact(DL, fun=text);"
   ]
  },
  {
   "cell_type": "code",
   "execution_count": null,
   "id": "8700461b",
   "metadata": {
    "slideshow": {
     "slide_type": "slide"
    }
   },
   "outputs": [],
   "source": [
    "text1 = widgets.Text(\n",
    "    value='(x**6-9*x**2-3)/(x**4-3*x**2-4)',\n",
    "    placeholder='Ecrire la fonction içi',\n",
    "    description='Function:',\n",
    "    disabled=False,\n",
    "    height=100\n",
    ")\n"
   ]
  },
  {
   "cell_type": "code",
   "execution_count": null,
   "id": "8c18cda3",
   "metadata": {
    "slideshow": {
     "slide_type": "subslide"
    }
   },
   "outputs": [],
   "source": [
    "def part(fun):\n",
    "    try :\n",
    "        display(\n",
    "        Math('{} = {}'.format(\n",
    "                r'${}'.format(latex(eval(fun))),\n",
    "                latex(apart(fun)\n",
    "                )\n",
    "             )))\n",
    "        \n",
    "    except:\n",
    "        print(\"vérifier la fonction\")"
   ]
  },
  {
   "cell_type": "code",
   "execution_count": null,
   "id": "a39c4d43",
   "metadata": {
    "slideshow": {
     "slide_type": "subslide"
    }
   },
   "outputs": [],
   "source": [
    "\n",
    "interact(part, fun=text1);"
   ]
  }
 ],
 "metadata": {
  "celltoolbar": "Diaporama",
  "kernelspec": {
   "display_name": "Python 3",
   "language": "python",
   "name": "python3"
  },
  "language_info": {
   "codemirror_mode": {
    "name": "ipython",
    "version": 3
   },
   "file_extension": ".py",
   "mimetype": "text/x-python",
   "name": "python",
   "nbconvert_exporter": "python",
   "pygments_lexer": "ipython3",
   "version": "3.8.8"
  }
 },
 "nbformat": 4,
 "nbformat_minor": 5
}
